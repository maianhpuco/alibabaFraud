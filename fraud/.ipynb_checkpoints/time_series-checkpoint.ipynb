{
 "cells": [
  {
   "cell_type": "code",
   "execution_count": 316,
   "metadata": {},
   "outputs": [],
   "source": [
    "# from pomegranate import *\n",
    "import numpy as np\n",
    "import matplotlib.pyplot as plt\n",
    "import random as rd\n",
    "import scipy.special\n",
    "import math"
   ]
  },
  {
   "cell_type": "markdown",
   "metadata": {},
   "source": [
    "__Create Fraud distribution__"
   ]
  },
  {
   "cell_type": "code",
   "execution_count": 317,
   "metadata": {},
   "outputs": [],
   "source": [
    "number_t = 24*60\n",
    "number_fraud_item = 1000"
   ]
  },
  {
   "cell_type": "code",
   "execution_count": 318,
   "metadata": {},
   "outputs": [],
   "source": [
    "def dist_generate_one_items(number_t):\n",
    "    rand = rd.randrange(1,10)\n",
    "    n_dist_1 = round(number_t/rand)\n",
    "    dist_1 = np.random.poisson(lam=rd.randrange(1,20), size = n_dist_1)\n",
    "    dist_2 = np.random.poisson(lam=rd.randrange(15,100), size = number_t - n_dist_1)\n",
    "    return np.hstack((dist_1, dist_2)) "
   ]
  },
  {
   "cell_type": "code",
   "execution_count": 319,
   "metadata": {},
   "outputs": [],
   "source": [
    "T = []\n",
    "for i in range(number_fraud_item):\n",
    "    dist = dist_generate_one_items(number_t)\n",
    "    T.append(dist)\n",
    "T = np.asarray(T)"
   ]
  },
  {
   "cell_type": "code",
   "execution_count": 324,
   "metadata": {},
   "outputs": [
    {
     "data": {
      "text/plain": [
       "(array([ 19., 140., 116.,  17.,  68., 276., 377., 318.,  96.,  13.]),\n",
       " array([ 4. , 10.4, 16.8, 23.2, 29.6, 36. , 42.4, 48.8, 55.2, 61.6, 68. ]),\n",
       " <a list of 10 Patch objects>)"
      ]
     },
     "execution_count": 324,
     "metadata": {},
     "output_type": "execute_result"
    },
    {
     "data": {
      "image/png": "[encoded data removed]",
      "text/plain": [
       "<Figure size 432x288 with 1 Axes>"
      ]
     },
     "metadata": {
      "needs_background": "light"
     },
     "output_type": "display_data"
    }
   ],
   "source": [
    "plt.hist(T[1])"
   ]
  },
  {
   "cell_type": "markdown",
   "metadata": {},
   "source": [
    "__Some Utils__"
   ]
  },
  {
   "cell_type": "code",
   "execution_count": 325,
   "metadata": {},
   "outputs": [],
   "source": [
    "def factorials(data):\n",
    "    return scipy.special.factorial(data)"
   ]
  },
  {
   "cell_type": "code",
   "execution_count": 326,
   "metadata": {},
   "outputs": [],
   "source": [
    "def poission_pdf(T, lambda_k, pi_k):\n",
    "    s1 = lambda_k.reshape(1000,1)/factorials(T)\n",
    "    s2 = math.e**(-lambda_k).reshape(1000,1)\n",
    "    return s1*s2"
   ]
  },
  {
   "cell_type": "markdown",
   "metadata": {},
   "source": [
    "_lambda_k and pi_k => Q_k => lambda_k and pi_k => repeating until convergenced_"
   ]
  },
  {
   "cell_type": "code",
   "execution_count": 327,
   "metadata": {},
   "outputs": [],
   "source": [
    "# probability density function: \n",
    "def cal_pdf_1():\n",
    "    return poission_pdf(T,lambda_1, pi_1)\n",
    "def cal_pdf_2():\n",
    "    return poission_pdf(T,lambda_2, pi_2)"
   ]
  },
  {
   "cell_type": "code",
   "execution_count": 328,
   "metadata": {},
   "outputs": [],
   "source": [
    "def cal_Q1():\n",
    "    return (cal_pdf_1() * pi_1) / ((cal_pdf_1() * pi_1 + cal_pdf_2() * pi_2))\n",
    "def cal_Q2():\n",
    "    return (cal_pdf_2() * pi_2) / ((cal_pdf_1() * pi_1 + cal_pdf_2() * pi_2))"
   ]
  },
  {
   "cell_type": "code",
   "execution_count": 329,
   "metadata": {},
   "outputs": [],
   "source": [
    "def cal_Q1():\n",
    "    return (pdf_1 * pi_1) / ((pdf_1 * pi_1 + pdf_2 * pi_2))\n",
    "def cal_Q2():\n",
    "    return (pdf_2 * pi_2) / (pdf_1 * pi_1 + pdf_2 * pi_2)"
   ]
  },
  {
   "cell_type": "code",
   "execution_count": 330,
   "metadata": {},
   "outputs": [],
   "source": [
    "def cal_pi_1():\n",
    "    return (sum(Q_1.T) / sum(Q_1.T).shape[0]).reshape(1000,1)\n",
    "def cal_pi_2():\n",
    "    return (sum(Q_2.T) / sum(Q_2.T).shape[0]).reshape(1000,1)"
   ]
  },
  {
   "cell_type": "code",
   "execution_count": 331,
   "metadata": {},
   "outputs": [],
   "source": [
    "def cal_lambda_1():\n",
    "    return sum((Q_1*T).T)/sum(Q_1.T)\n",
    "def cal_lambda_2():\n",
    "    return sum((Q_2*T).T)/sum(Q_2.T)"
   ]
  },
  {
   "cell_type": "markdown",
   "metadata": {},
   "source": [
    "\n"
   ]
  },
  {
   "cell_type": "markdown",
   "metadata": {},
   "source": [
    "__Define some initial value for lambda(λ) and pi(π)__"
   ]
  },
  {
   "cell_type": "code",
   "execution_count": 332,
   "metadata": {},
   "outputs": [],
   "source": [
    "n_cluster = 2 \n",
    "lambda_1 = np.asarray([rd.randrange(1,100) for i in range(number_fraud_item)])\n",
    "lambda_2 = np.asarray([rd.randrange(1,100) for i in range(number_fraud_item)])\n",
    "pi_1 = np.asarray([rd.uniform(0,1) for i in range(number_fraud_item)]).reshape(number_fraud_item,1)\n",
    "pi_2 = np.asarray([1 for i in range(number_fraud_item)]).reshape(number_fraud_item,1) - pi_1"
   ]
  },
  {
   "cell_type": "code",
   "execution_count": 333,
   "metadata": {},
   "outputs": [],
   "source": [
    "Q_1 = cal_Q1()\n",
    "Q_2 = cal_Q2()"
   ]
  },
  {
   "cell_type": "code",
   "execution_count": 334,
   "metadata": {},
   "outputs": [
    {
     "data": {
      "text/plain": [
       "(1000, 1440)"
      ]
     },
     "execution_count": 334,
     "metadata": {},
     "output_type": "execute_result"
    }
   ],
   "source": [
    "Q_1.shape"
   ]
  },
  {
   "cell_type": "code",
   "execution_count": null,
   "metadata": {},
   "outputs": [],
   "source": [
    "\n",
    "# def iterate_until_convergence():\n",
    "count = 0\n",
    "Q1_temp = Q_1\n",
    "Q2_temp = Q_2\n",
    "# M - step\n",
    "for i in range(10000):\n",
    "    count+=1 \n",
    "    pi_1 = cal_pi_1()\n",
    "    pi_2 = cal_pi_2()\n",
    "    lambda_1 = cal_lambda_1()\n",
    "    lambda_2 = cal_lambda_2()\n",
    "    Q_1 = cal_Q1()\n",
    "    Q_2 = cal_Q2()\n",
    "#     print('Q1', Q_1[:4,:1])\n",
    "#     print('Q2', Q_2[:4,:1])\n",
    "#     print('pi_1', pi_1[:4])\n",
    "#     print('pi_2', pi_2[:4])\n",
    "#     print('-----------------')\n",
    "    if (Q_1 == Q1_temp).all() and (Q_2 == Q2_temp).all() or count == 999:\n",
    "        print('done')\n",
    "        print('Q1', Q_1[:4,:1])\n",
    "        print('Q2', Q_2[:4,:1])\n",
    "        print('pi_1', pi_1[:4])\n",
    "        print('pi_2', pi_2[:4])\n",
    "        break\n",
    "#     return"
   ]
  },
  {
   "cell_type": "code",
   "execution_count": 268,
   "metadata": {},
   "outputs": [
    {
     "ename": "UnboundLocalError",
     "evalue": "local variable 'Q_1' referenced before assignment",
     "output_type": "error",
     "traceback": [
      "\u001b[0;31m---------------------------------------------------------------------------\u001b[0m",
      "\u001b[0;31mUnboundLocalError\u001b[0m                         Traceback (most recent call last)",
      "\u001b[0;32m<ipython-input-268-33c130fb539d>\u001b[0m in \u001b[0;36m<module>\u001b[0;34m\u001b[0m\n\u001b[0;32m----> 1\u001b[0;31m \u001b[0miterate_until_convergence\u001b[0m\u001b[0;34m(\u001b[0m\u001b[0;34m)\u001b[0m\u001b[0;34m\u001b[0m\u001b[0;34m\u001b[0m\u001b[0m\n\u001b[0m",
      "\u001b[0;32m<ipython-input-267-474ef7aa7db0>\u001b[0m in \u001b[0;36miterate_until_convergence\u001b[0;34m()\u001b[0m\n\u001b[1;32m      1\u001b[0m \u001b[0;32mdef\u001b[0m \u001b[0miterate_until_convergence\u001b[0m\u001b[0;34m(\u001b[0m\u001b[0;34m)\u001b[0m\u001b[0;34m:\u001b[0m\u001b[0;34m\u001b[0m\u001b[0;34m\u001b[0m\u001b[0m\n\u001b[1;32m      2\u001b[0m     \u001b[0mcount\u001b[0m \u001b[0;34m=\u001b[0m \u001b[0;36m0\u001b[0m\u001b[0;34m\u001b[0m\u001b[0;34m\u001b[0m\u001b[0m\n\u001b[0;32m----> 3\u001b[0;31m     \u001b[0mQ1_temp\u001b[0m \u001b[0;34m=\u001b[0m \u001b[0mQ_1\u001b[0m\u001b[0;34m\u001b[0m\u001b[0;34m\u001b[0m\u001b[0m\n\u001b[0m\u001b[1;32m      4\u001b[0m     \u001b[0mQ2_temp\u001b[0m \u001b[0;34m=\u001b[0m \u001b[0mQ_2\u001b[0m\u001b[0;34m\u001b[0m\u001b[0;34m\u001b[0m\u001b[0m\n\u001b[1;32m      5\u001b[0m     \u001b[0;31m# M - step\u001b[0m\u001b[0;34m\u001b[0m\u001b[0;34m\u001b[0m\u001b[0;34m\u001b[0m\u001b[0m\n",
      "\u001b[0;31mUnboundLocalError\u001b[0m: local variable 'Q_1' referenced before assignment"
     ]
    }
   ],
   "source": []
  },
  {
   "cell_type": "code",
   "execution_count": null,
   "metadata": {},
   "outputs": [],
   "source": []
  }
 ],
 "metadata": {
  "kernelspec": {
   "display_name": "Python 3",
   "language": "python",
   "name": "python3"
  },
  "language_info": {
   "codemirror_mode": {
    "name": "ipython",
    "version": 3
   },
   "file_extension": ".py",
   "mimetype": "text/x-python",
   "name": "python",
   "nbconvert_exporter": "python",
   "pygments_lexer": "ipython3",
   "version": "3.7.3"
  }
 },
 "nbformat": 4,
 "nbformat_minor": 4
}
